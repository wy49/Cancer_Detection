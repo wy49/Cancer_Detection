{
 "cells": [
  {
   "cell_type": "code",
   "execution_count": null,
   "metadata": {
    "_cell_guid": "b1076dfc-b9ad-4769-8c92-a6c4dae69d19",
    "_uuid": "8f2839f25d086af736a60e9eeb907d3b93b6e0e5"
   },
   "outputs": [],
   "source": [
    "import numpy as np # linear algebra\n",
    "import pandas as pd # data processing, CSV file I/O (e.g. pd.read_csv)\n",
    "import matplotlib.pyplot as plt\n",
    "from sklearn.model_selection import train_test_split\n",
    "import shutil as st\n",
    "import multiprocessing as mp\n",
    "import h5py"
   ]
  },
  {
   "cell_type": "code",
   "execution_count": null,
   "metadata": {
    "_cell_guid": "79c7e3d0-c299-4dcb-8224-4455121ee9b0",
    "_uuid": "d629ff2d2480ee46fbb7e2d37f6b5fab8052498a"
   },
   "outputs": [],
   "source": [
    "dtypes = {\n",
    "        'id'            : 'str',\n",
    "        'label'           : 'int8',\n",
    "        }\n",
    "train_labels = pd.read_csv('../input/train_labels.csv',dtype = dtypes)\n",
    "train_labels.head()"
   ]
  },
  {
   "cell_type": "code",
   "execution_count": null,
   "metadata": {
    "_uuid": "9f54af47cb87a35e6ba7fe83e8f188a2fdd5836e"
   },
   "outputs": [],
   "source": [
    "#balance 0 and 1 in train data\n",
    "np.random.seed(23333)\n",
    "train_labels.groupby(['label']).size() #0:130908 1: 89117\n",
    "index = np.where(train_labels['label']==0)[0]\n",
    "index = np.random.choice(index,89117,replace=False)\n",
    "\n",
    "index = np.concatenate([index,np.where(train_labels['label']==1)[0]])\n",
    "index,len(index)"
   ]
  },
  {
   "cell_type": "code",
   "execution_count": null,
   "metadata": {
    "_uuid": "0dc6d646012f82a50e197637ca71f40e4d2b067a"
   },
   "outputs": [],
   "source": [
    "#create folders for flow from directory\n",
    "if not os.path.exists('../working/train/true/'):\n",
    "    os.makedirs('../working/train/true/')\n",
    "if not os.path.exists('../working/train/false/'):\n",
    "    os.makedirs('../working/train/false/')\n",
    "if not os.path.exists('../working/validate/true/'):\n",
    "    os.makedirs('../working/validate/true/')\n",
    "if not os.path.exists('../working/validate/false/'):\n",
    "    os.makedirs('../working/validate/false/')\n",
    "    \n",
    "print(len(os.listdir('../working/train/false')))"
   ]
  },
  {
   "cell_type": "code",
   "execution_count": null,
   "metadata": {
    "_uuid": "3fe1de505bc690d444151637ff7bb59974e09ae5"
   },
   "outputs": [],
   "source": [
    "#split train to new train/validate\n",
    "n = len(train_labels)\n",
    "X_train, X_test, y_train, y_test = train_test_split(train_labels.iloc[index]['id'], train_labels.iloc[index]['label'], test_size=0.2, random_state=23333)"
   ]
  },
  {
   "cell_type": "code",
   "execution_count": null,
   "metadata": {
    "_uuid": "c7e4fc7024e20aa17bc2678f64d103efe765c48d"
   },
   "outputs": [],
   "source": [
    "READ_FLAGS = os.O_RDONLY\n",
    "WRITE_FLAGS = os.O_WRONLY | os.O_CREAT | os.O_TRUNC\n",
    "BUFFER_SIZE = 128*1024\n",
    "# BUFFER_SIZE = 1024\n",
    "\n",
    "def copyfile(src, dst):\n",
    "    try:\n",
    "        fin = os.open(src, READ_FLAGS)\n",
    "        stat = os.fstat(fin)\n",
    "        fout = os.open(dst, WRITE_FLAGS, stat.st_mode)\n",
    "        for x in iter(lambda: os.read(fin, BUFFER_SIZE), b\"\"):\n",
    "            os.write(fout, x)\n",
    "#             print('yes')\n",
    "    finally:\n",
    "        try: \n",
    "            os.close(fin)\n",
    "#             print('fin')\n",
    "        except: \n",
    "            pass\n",
    "            print('nin')\n",
    "        try: \n",
    "            os.close(fout)\n",
    "#             print('fout')\n",
    "        except:\n",
    "            pass\n",
    "            print('nout')"
   ]
  },
  {
   "cell_type": "code",
   "execution_count": null,
   "metadata": {
    "_uuid": "f0b594d01465ca302d07196370b98edf8a2b7bae"
   },
   "outputs": [],
   "source": [
    "for name in X_train:\n",
    "    label = train_labels[train_labels['id'] == name]['label'].values\n",
    "    if label == 1:\n",
    "        copyfile('../input/train/'+name+'.tif','../working/train/true/'+name+'.tif')\n",
    "    elif label == 0:\n",
    "        copyfile('../input/train/'+name+'.tif','../working/train/false/'+name+'.tif')\n",
    "    else:\n",
    "        break\n",
    "        print('train folder error')"
   ]
  },
  {
   "cell_type": "code",
   "execution_count": null,
   "metadata": {
    "_uuid": "2f7621784033861f735af5415d143fe8bcf2c795"
   },
   "outputs": [],
   "source": [
    "for name in X_test:\n",
    "    label = train_labels[train_labels['id'] == name]['label'].values\n",
    "    if label == 1:\n",
    "        copyfile('../input/train/'+name+'.tif','../working/validate/true/'+name+'.tif')\n",
    "    elif label == 0:\n",
    "        copyfile('../input/train/'+name+'.tif','../working/validate/false/'+name+'.tif')\n",
    "    else:\n",
    "        break\n",
    "        print('train folder error')"
   ]
  },
  {
   "cell_type": "code",
   "execution_count": null,
   "metadata": {
    "_uuid": "8b4d809fd213d4bddd61fc12bc58dffccabbb878"
   },
   "outputs": [],
   "source": [
    "#copy and split data into train/validate folder\n",
    "#SUPER SLOWWWWWW\n",
    "# for name in X_train:\n",
    "#     label = train_labels[train_labels['id'] == name]['label'].values\n",
    "#     if label == 1:\n",
    "#         st.copyfile('../input/train/'+name+'.tif','../working/train/true/'+name+'.tif')\n",
    "#     elif label == 0:\n",
    "#         st.copyfile('../input/train/'+name+'.tif','../working/train/false/'+name+'.tif')\n",
    "#     else:\n",
    "#         break\n",
    "#         print('train folder error')\n",
    "        \n",
    "# for name in X_test:\n",
    "#     label = train_labels[train_labels['id'] == name]['label'].values\n",
    "#     if label == 1:\n",
    "#         st.copyfile('../input/train/'+name+'.tif','../working/validate/true/'+name+'.tif')\n",
    "#     elif label == 0:\n",
    "#         st.copyfile('../input/train/'+name+'.tif','../working/validate/false/'+name+'.tif')\n",
    "#     else:\n",
    "#         break\n",
    "#         print('validate folder error')\n",
    "    "
   ]
  },
  {
   "cell_type": "code",
   "execution_count": null,
   "metadata": {
    "_uuid": "4eca14d7a892d1313749c8c2dc94aaa2f715b0a4",
    "scrolled": true
   },
   "outputs": [],
   "source": [
    "from keras.preprocessing.image import ImageDataGenerator\n",
    "train_datagen = ImageDataGenerator(True,True,True,True,\n",
    "        rescale=1./255,\n",
    "        rotation_range=40,                           \n",
    "#         shear_range=0.2,\n",
    "        zoom_range=0.2,\n",
    "        horizontal_flip=True,\n",
    "        vertical_flip= True)\n",
    "\n",
    "train_generator = train_datagen.flow_from_directory(\n",
    "    directory=\"../working/train\",\n",
    "    target_size=(96, 96),\n",
    "    color_mode=\"rgb\",\n",
    "    batch_size=32,\n",
    "    class_mode=\"categorical\",\n",
    "    shuffle=True,\n",
    "    seed=23333\n",
    ")"
   ]
  },
  {
   "cell_type": "code",
   "execution_count": null,
   "metadata": {
    "_uuid": "eb3dc3567c0f0f2e939bd5e451767345f2ea90c7",
    "scrolled": true
   },
   "outputs": [],
   "source": [
    "valid_datagen = ImageDataGenerator(True,True,True,True,\n",
    "        rescale=1./255,\n",
    "        rotation_range=40,                           \n",
    "#         shear_range=0.2,\n",
    "        zoom_range=0.2,\n",
    "        horizontal_flip=True,\n",
    "        vertical_flip= True)\n",
    "\n",
    "valid_generator = valid_datagen.flow_from_directory(\n",
    "    directory=\"../working/validate\",\n",
    "    target_size=(96, 96),\n",
    "    color_mode=\"rgb\",\n",
    "    batch_size=32,\n",
    "    class_mode=\"categorical\",\n",
    "    shuffle=True,\n",
    "    seed=23333\n",
    ")"
   ]
  },
  {
   "cell_type": "code",
   "execution_count": null,
   "metadata": {
    "_uuid": "1f250a4bc0ca2a2e6668320b1e38d1e5a72cec00"
   },
   "outputs": [],
   "source": [
    "import gc\n",
    "gc.collect()"
   ]
  },
  {
   "cell_type": "code",
   "execution_count": null,
   "metadata": {
    "_uuid": "8bc92523ecd79c2a3904f981327293292c2f6b21"
   },
   "outputs": [],
   "source": [
    "import keras\n",
    "from keras.models import Sequential\n",
    "from keras.layers import Conv2D, MaxPooling2D,BatchNormalization,Dense, Dropout, Flatten\n",
    "\n",
    "cnn1 = Sequential()\n",
    "cnn1.add(Conv2D(32, kernel_size=(3, 3), activation='relu', input_shape=(96,96,3)))\n",
    "cnn1.add(BatchNormalization())\n",
    "\n",
    "cnn1.add(Conv2D(32, kernel_size=(3, 3), activation='relu'))\n",
    "cnn1.add(BatchNormalization())\n",
    "cnn1.add(MaxPooling2D(pool_size=(2, 2)))\n",
    "cnn1.add(Dropout(0.25))\n",
    "\n",
    "cnn1.add(Conv2D(64, kernel_size=(3, 3), activation='relu'))\n",
    "cnn1.add(BatchNormalization())\n",
    "cnn1.add(Dropout(0.25))\n",
    "\n",
    "cnn1.add(Conv2D(128, kernel_size=(3, 3), activation='relu'))\n",
    "cnn1.add(BatchNormalization())\n",
    "cnn1.add(MaxPooling2D(pool_size=(2, 2)))\n",
    "cnn1.add(Dropout(0.25))\n",
    "\n",
    "cnn1.add(Flatten())\n",
    "\n",
    "cnn1.add(Dense(512, activation='relu'))\n",
    "cnn1.add(BatchNormalization())\n",
    "cnn1.add(Dropout(0.5))\n",
    "\n",
    "cnn1.add(Dense(128, activation='relu'))\n",
    "cnn1.add(BatchNormalization())\n",
    "cnn1.add(Dropout(0.5))\n",
    "\n",
    "cnn1.add(Dense(2, activation='softmax'))\n",
    "\n",
    "cnn1.compile(loss=keras.losses.binary_crossentropy,\n",
    "              optimizer=keras.optimizers.Adam(),\n",
    "              metrics=['accuracy'])\n",
    "# view raw"
   ]
  },
  {
   "cell_type": "code",
   "execution_count": null,
   "metadata": {
    "_uuid": "29bc3d19051a38ec066083794c802f523f81572a"
   },
   "outputs": [],
   "source": [
    "callbacks = [keras.callbacks.EarlyStopping(monitor='val_loss', patience=2),\n",
    "             keras.callbacks.ModelCheckpoint(filepath='cnn_3_8.h5', monitor='val_loss', save_best_only=True)]"
   ]
  },
  {
   "cell_type": "code",
   "execution_count": null,
   "metadata": {
    "_uuid": "b45d29a328490a3241acc4339ea52fa23e8e37dc"
   },
   "outputs": [],
   "source": [
    "cnn1.fit_generator(train_generator, \n",
    "                   steps_per_epoch=np.ceil(142587 / 32), \n",
    "                   epochs=5, \n",
    "                   verbose=1,\n",
    "                   validation_data=valid_generator,\n",
    "                   validation_steps = np.ceil(35647 / 32))"
   ]
  },
  {
   "cell_type": "code",
   "execution_count": null,
   "metadata": {
    "_uuid": "00f34df1225b0f76cca226f70abf1cf1b0787a74"
   },
   "outputs": [],
   "source": []
  }
 ],
 "metadata": {
  "kernelspec": {
   "display_name": "Python 3",
   "language": "python",
   "name": "python3"
  },
  "language_info": {
   "codemirror_mode": {
    "name": "ipython",
    "version": 3
   },
   "file_extension": ".py",
   "mimetype": "text/x-python",
   "name": "python",
   "nbconvert_exporter": "python",
   "pygments_lexer": "ipython3",
   "version": "3.6.4"
  }
 },
 "nbformat": 4,
 "nbformat_minor": 1
}
